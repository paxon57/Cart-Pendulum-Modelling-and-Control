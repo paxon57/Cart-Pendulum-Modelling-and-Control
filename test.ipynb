{
 "cells": [
  {
   "cell_type": "code",
   "execution_count": 215,
   "metadata": {},
   "outputs": [],
   "source": [
    "from sympy import *\n",
    "from sympy.physics.mechanics import *\n",
    "from sympy.abc import t, s, g\n",
    "init_vprinting()"
   ]
  },
  {
   "cell_type": "code",
   "execution_count": 216,
   "metadata": {},
   "outputs": [
    {
     "data": {
      "image/png": "[encoded data removed]",
      "text/latex": [
       "$\\displaystyle g l m \\cos{\\left(\\theta \\right)}$"
      ],
      "text/plain": [
       "g⋅l⋅m⋅cos(θ)"
      ]
     },
     "execution_count": 216,
     "metadata": {},
     "output_type": "execute_result"
    }
   ],
   "source": [
    "m, M, l = symbols('m M l')\n",
    "x, theta, F = dynamicsymbols('x theta F')\n",
    "\n",
    "x_m = x - l * sin(theta)\n",
    "y_m = l * cos(theta)\n",
    "\n",
    "x_dot = diff(x, t)\n",
    "x_ddot = diff(x_dot, t)\n",
    "theta_dot = diff(theta, t)\n",
    "theta_ddot = diff(theta_dot, t)\n",
    "x_m_dot = diff(x_m, t)\n",
    "x_m_ddot = diff(x_m_dot, t)\n",
    "y_m_dot = diff(y_m, t)\n",
    "y_m_ddot = diff(y_m_dot, t)\n",
    "\n",
    "# Potential Energy\n",
    "V = m*g*y_m\n",
    "V.simplify()"
   ]
  },
  {
   "cell_type": "code",
   "execution_count": 217,
   "metadata": {},
   "outputs": [
    {
     "data": {
      "image/png": "[encoded data removed]",
      "text/latex": [
       "$\\displaystyle 0.5 M \\dot{x}^{2} + 0.5 m \\left(l^{2} \\dot{\\theta}^{2} - 2 l \\cos{\\left(\\theta \\right)} \\dot{\\theta} \\dot{x} + \\dot{x}^{2}\\right)$"
      ],
      "text/plain": [
       "       2         ⎛ 2  2                     2⎞\n",
       "0.5⋅M⋅ẋ  + 0.5⋅m⋅⎝l ⋅θ̇  - 2⋅l⋅cos(θ)⋅θ̇⋅ẋ + ẋ ⎠"
      ]
     },
     "execution_count": 217,
     "metadata": {},
     "output_type": "execute_result"
    }
   ],
   "source": [
    "# Kinetic Energy\n",
    "T = .5*M*x_dot**2 + .5*m*(x_m_dot**2 + y_m_dot**2)\n",
    "T.simplify()"
   ]
  },
  {
   "cell_type": "code",
   "execution_count": 218,
   "metadata": {},
   "outputs": [
    {
     "data": {
      "image/png": "[encoded data removed]",
      "text/latex": [
       "$\\displaystyle 0.5 M \\dot{x}^{2} - g l m \\cos{\\left(\\theta \\right)} + 0.5 m \\left(l^{2} \\dot{\\theta}^{2} - 2 l \\cos{\\left(\\theta \\right)} \\dot{\\theta} \\dot{x} + \\dot{x}^{2}\\right)$"
      ],
      "text/plain": [
       "       2                        ⎛ 2  2                     2⎞\n",
       "0.5⋅M⋅ẋ  - g⋅l⋅m⋅cos(θ) + 0.5⋅m⋅⎝l ⋅θ̇  - 2⋅l⋅cos(θ)⋅θ̇⋅ẋ + ẋ ⎠"
      ]
     },
     "execution_count": 218,
     "metadata": {},
     "output_type": "execute_result"
    }
   ],
   "source": [
    "# Lagrangian\n",
    "L = T - V\n",
    "L.simplify()"
   ]
  },
  {
   "cell_type": "code",
   "execution_count": 219,
   "metadata": {},
   "outputs": [
    {
     "data": {
      "image/png": "[encoded data removed]",
      "text/latex": [
       "$\\displaystyle 1.0 M \\ddot{x} + 1.0 m \\left(l \\sin{\\left(\\theta \\right)} \\dot{\\theta}^{2} - l \\cos{\\left(\\theta \\right)} \\ddot{\\theta} + \\ddot{x}\\right) - F$"
      ],
      "text/plain": [
       "                ⎛          2                 ⎞    \n",
       "1.0⋅M⋅ẍ + 1.0⋅m⋅⎝l⋅sin(θ)⋅θ̇  - l⋅cos(θ)⋅θ̈ + ẍ⎠ - F"
      ]
     },
     "execution_count": 219,
     "metadata": {},
     "output_type": "execute_result"
    }
   ],
   "source": [
    "# Euler Lagrangian - Equations of Motion\n",
    "eom_x = diff(diff(L, x_dot), t) - diff(L, x)\n",
    "eom_x = eom_x - F\n",
    "eom_x.simplify()"
   ]
  },
  {
   "cell_type": "code",
   "execution_count": 220,
   "metadata": {},
   "outputs": [
    {
     "data": {
      "image/png": "[encoded data removed]",
      "text/latex": [
       "$\\displaystyle 1.0 l m \\left(- g \\sin{\\left(\\theta \\right)} + l \\ddot{\\theta} - \\cos{\\left(\\theta \\right)} \\ddot{x}\\right)$"
      ],
      "text/plain": [
       "1.0⋅l⋅m⋅(-g⋅sin(θ) + l⋅θ̈ - cos(θ)⋅ẍ)"
      ]
     },
     "execution_count": 220,
     "metadata": {},
     "output_type": "execute_result"
    }
   ],
   "source": [
    "eom_theta = diff(diff(L, theta_dot), t) - diff(L, theta)\n",
    "eom_theta.simplify()"
   ]
  },
  {
   "cell_type": "code",
   "execution_count": 221,
   "metadata": {},
   "outputs": [
    {
     "data": {
      "image/png": "[encoded data removed]",
      "text/latex": [
       "$\\displaystyle \\ddot{x} = \\frac{- l m \\sin{\\left(\\theta \\right)} \\dot{\\theta}^{2} + l m \\cos{\\left(\\theta \\right)} \\ddot{\\theta} + F}{M + m}$"
      ],
      "text/plain": [
       "                  2                   \n",
       "    - l⋅m⋅sin(θ)⋅θ̇  + l⋅m⋅cos(θ)⋅θ̈ + F\n",
       "ẍ = ──────────────────────────────────\n",
       "                  M + m               "
      ]
     },
     "execution_count": 221,
     "metadata": {},
     "output_type": "execute_result"
    }
   ],
   "source": [
    "# Solve\n",
    "sln_x_ddot = solve(eom_x, x_ddot)[0]\n",
    "Eq(x_ddot, sln_x_ddot)"
   ]
  },
  {
   "cell_type": "code",
   "execution_count": 222,
   "metadata": {},
   "outputs": [
    {
     "data": {
      "image/png": "[encoded data removed]",
      "text/latex": [
       "$\\displaystyle \\ddot{\\theta} = \\frac{g \\sin{\\left(\\theta \\right)} + \\cos{\\left(\\theta \\right)} \\ddot{x}}{l}$"
      ],
      "text/plain": [
       "    g⋅sin(θ) + cos(θ)⋅ẍ\n",
       "θ̈ = ───────────────────\n",
       "             l         "
      ]
     },
     "execution_count": 222,
     "metadata": {},
     "output_type": "execute_result"
    }
   ],
   "source": [
    "sln_theta_ddot = solve(eom_theta, theta_ddot)[0]\n",
    "Eq(theta_ddot, sln_theta_ddot)"
   ]
  },
  {
   "cell_type": "code",
   "execution_count": 223,
   "metadata": {},
   "outputs": [
    {
     "data": {
      "text/latex": [
       "$\\displaystyle \\left[\\begin{matrix}\\dot{x}\\\\\\ddot{x}\\\\\\dot{\\theta}\\\\\\ddot{\\theta}\\end{matrix}\\right] = \\left[\\begin{matrix}\\dot{x}\\\\\\frac{- l m \\sin{\\left(\\theta \\right)} \\dot{\\theta}^{2} + l m \\cos{\\left(\\theta \\right)} \\ddot{\\theta} + F}{M + m}\\\\\\dot{\\theta}\\\\\\frac{g \\sin{\\left(\\theta \\right)} + \\cos{\\left(\\theta \\right)} \\ddot{x}}{l}\\end{matrix}\\right]$"
      ],
      "text/plain": [
       "      ⎡                ẋ                 ⎤\n",
       "      ⎢                                  ⎥\n",
       "      ⎢              2                   ⎥\n",
       "⎡ẋ⎤   ⎢- l⋅m⋅sin(θ)⋅θ̇  + l⋅m⋅cos(θ)⋅θ̈ + F⎥\n",
       "⎢ ⎥   ⎢──────────────────────────────────⎥\n",
       "⎢ẍ⎥   ⎢              M + m               ⎥\n",
       "⎢ ⎥ = ⎢                                  ⎥\n",
       "⎢θ̇⎥   ⎢                θ̇                 ⎥\n",
       "⎢ ⎥   ⎢                                  ⎥\n",
       "⎣θ̈⎦   ⎢       g⋅sin(θ) + cos(θ)⋅ẍ        ⎥\n",
       "      ⎢       ───────────────────        ⎥\n",
       "      ⎣                l                 ⎦"
      ]
     },
     "execution_count": 223,
     "metadata": {},
     "output_type": "execute_result"
    }
   ],
   "source": [
    "state = Matrix([x, x_dot, theta, theta_dot])\n",
    "state_dot = diff(state, t)\n",
    "Eq(state_dot, Matrix([x_dot, sln_x_ddot, theta_dot, sln_theta_ddot]))"
   ]
  }
 ],
 "metadata": {
  "kernelspec": {
   "display_name": "Python 3",
   "language": "python",
   "name": "python3"
  },
  "language_info": {
   "codemirror_mode": {
    "name": "ipython",
    "version": 3
   },
   "file_extension": ".py",
   "mimetype": "text/x-python",
   "name": "python",
   "nbconvert_exporter": "python",
   "pygments_lexer": "ipython3",
   "version": "3.13.0"
  }
 },
 "nbformat": 4,
 "nbformat_minor": 2
}
